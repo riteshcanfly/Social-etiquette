{
 "cells": [
  {
   "cell_type": "code",
   "execution_count": null,
   "metadata": {
    "colab": {},
    "colab_type": "code",
    "id": "51x9FMVdZx85"
   },
   "outputs": [],
   "source": [
    "# Analysis"
   ]
  },
  {
   "cell_type": "code",
   "execution_count": 1,
   "metadata": {
    "colab": {},
    "colab_type": "code",
    "id": "VsOAHqQ6Zx88"
   },
   "outputs": [],
   "source": [
    "# Imports\n",
    "import matplotlib.pyplot as plt\n",
    "import pandas as pd\n",
    "import seaborn as sns\n",
    "from sklearn.cluster import KMeans\n",
    "from sklearn.decomposition import PCA\n",
    "sns.set(font_scale=1.5)\n",
    "pd.set_option('mode.chained_assignment', None)  # Ignore SettingOnCopy warning"
   ]
  },
  {
   "cell_type": "markdown",
   "metadata": {
    "colab_type": "text",
    "id": "8hFEUJx4Zx9D"
   },
   "source": [
    "# Data loading and cleaning"
   ]
  },
  {
   "cell_type": "code",
   "execution_count": 2,
   "metadata": {
    "colab": {
     "base_uri": "https://localhost:8080/",
     "height": 35
    },
    "colab_type": "code",
    "id": "esN0_9NwZx9E",
    "outputId": "9462d9b9-576b-4f30-fd0f-fbc4d6dbe652"
   },
   "outputs": [
    {
     "data": {
      "text/plain": [
       "360"
      ]
     },
     "execution_count": 2,
     "metadata": {},
     "output_type": "execute_result"
    }
   ],
   "source": [
    "# Database fetched on 6th May 2020\n",
    "d = pd.read_excel('Covid_survey_sheet_final_11-5.xlsx')\n",
    "n_initial = d.shape[0]\n",
    "n_initial"
   ]
  },
  {
   "cell_type": "code",
   "execution_count": 3,
   "metadata": {
    "colab": {
     "base_uri": "https://localhost:8080/",
     "height": 173
    },
    "colab_type": "code",
    "id": "ss5FXkWvZx9H",
    "outputId": "b5f30bf0-c0f1-413c-d326-a610cf15f6c4"
   },
   "outputs": [
    {
     "data": {
      "text/plain": [
       "Index(['ID', 'Timestamp', 'Age', 'Gender', 'occupation', 'occupation_job',\n",
       "       'Edu', 'service_lockdown', 'Statetheyreside', 'state',\n",
       "       'Freq_handwash_before', 'soapwater_before', 'plainwater_before',\n",
       "       'sanitizer_before', 'duration_before', 'allsteps_before',\n",
       "       'cough_cloth_before', 'cough_handcover_before', 'cough_elbow_before',\n",
       "       'social_before', 'Freq_handwash_after', 'soapwater_after',\n",
       "       'plainwater_after', 'sanitizer_after', 'duration_after',\n",
       "       'allsteps_after', 'cough_cloth_after', 'cough_handcover_after',\n",
       "       'cough_elbow_after', 'social_after', 'mask'],\n",
       "      dtype='object')"
      ]
     },
     "execution_count": 3,
     "metadata": {},
     "output_type": "execute_result"
    }
   ],
   "source": [
    "d.columns "
   ]
  },
  {
   "cell_type": "code",
   "execution_count": null,
   "metadata": {
    "colab": {},
    "colab_type": "code",
    "id": "qcW2MNRNZx9L"
   },
   "outputs": [],
   "source": [
    "'''\n",
    "# delete responses where people have not provided consent\n",
    "\n",
    "d = d.rename( columns= {'मैंने ऊपर लिखे अध्ययन के बारे में दी गई जानकारी को पढ़ा और समझा है और मुझे सवाल पूछने का अवसर मिला है। मैं समझता हूं कि मेरी भागीदारी स्वैच्छिक है और मैं इस अध्ययन में भाग लेने के लिए अपनी सूचित सहमति देता हूं।मैं यह भी समझता हूं कि मैं किसी भी समय और किसी भी कारण से शोध से हट सकता हूं। मैं इस अध्ययन से उत्पन्न होने वाले किसी भी डेटा या परिणामों के उपयोग को प्रतिबंधित नहीं करने के लिए सहमत हूं, बशर्ते ऐसा उपयोग केवल वैज्ञानिक उद्देश्य के लिए हो I':'Consent',\n",
    "            \n",
    "                   'उम्र? (age)': 'Age', 'लिंग (gender)': 'Gender', 'आपका कामकाज/ व्यवसाय (occupation)': 'Occupation', \n",
    "                    'आपकी शिक्षा? (education)': 'Education', \n",
    "                    'क्या आप लॉकडाउन के दौरान आवश्यक सेवाओं में कोई योगदान कर रहे हैं ?  ( जैसे पुलिस, स्वास्थ्यकर्मी, वैज्ञानिक , शोधकर्ता, सुरक्षा कर्मी, राशन/दवाई की दुकान ,भोजन वितरण ,स्वयंसेवक इतियादि )': 'Services',\n",
    "                    'आप वर्तमान में किस राज्य में रहते हैं  ?': 'State', \n",
    "                    'पहले औसतन (On average), आप दिन में कितनी बार हाथ धोया करते थे ? [कितनी बार?]': 'No_handwash_before',\n",
    "                    'पहले आप अपने हाथ कैसे धोया करते थे  ? [साबुन और पानी से]': 'Soapwater_before',\n",
    "                    'पहले आप अपने हाथ कैसे धोया करते थे  ? [सिर्फ पानी से]': 'Water_before',\n",
    "                    'पहले आप अपने हाथ कैसे धोया करते थे  ? [अल्कोहल sanitizer से]': 'Sanitiser_before',\n",
    "                    'पहले आप साबुन और पानी से अपने हाथ कितने समय के लिए धोते थे  ?': 'Time_soapwater_before',\n",
    "                    'क्या आपने साबुन पानी से ऐसे तरीके से हाथ धोये जिसमें ----> हथेली, हाथ के पीछे, उंगलियों के बीच में, नाखून, अंगूठे, कलाई शामिल हो ?': 'Mode_handwash_before',\n",
    "                    'याद कीजिये जब आपको खासी या छींक आयी तो आपने क्या किया ? [मुंह कपडे से ढका ]': 'Sneeze_cloth_before',\n",
    "                    'याद कीजिये जब आपको खासी या छींक आयी तो आपने क्या किया ? [मुंह हाथ से ढका ]': 'Sneeze_hand_before',\n",
    "                    'याद कीजिये जब आपको खासी या छींक आयी तो आपने क्या किया ? [ऊपरी बाजू में खाँसा/छींका]': 'Sneeze_arm_before',\n",
    "                    'अगर आपने हाथ में खाँसा या छींका, तो उसके उपरान्त क्या आपने अपने हाथ धोये?': 'Sneeze_handwash_before',\n",
    "                    ' क्या आप पहले सामाजिक दूरी का पालन करते थे ? ( उदाहरण के तौर पर अगर आप कभी दुकान पर गए और आपने लोगों  से एक  मीटर की दूरी बनायीं रखी )':'Socialdistance_before',\n",
    "                    'आजकल , औसतन (average) आप दिन में कितनी बार हाथ धोते हैं ? [कितनी बार?]': 'No_handwash_now',\n",
    "                    'आजकल आप अपने हाथ कैसे धोते हैं ? [साबुन और पानी से]': 'Soapwater_now',\n",
    "                    'आजकल आप अपने हाथ कैसे धोते हैं ? [सिर्फ पानी से]':'Water_now',\n",
    "                    'आजकल आप अपने हाथ कैसे धोते हैं ? [अल्कोहल sanitizer से]': 'Sanitiser_now',\n",
    "                    'आजकल आप कितनी बार साबुन पानी से ऐसे तरीके से हाथ धोते हैं  --->  जिसमें हथेली, हाथ के पीछे, उंगलियों के बीच में, नाखून, अंगूठे, कलाई शामिल हो )?': 'Mode_handwash_now',\n",
    "                    'आजकल आप साबुन और पानी से अपने हाथ कितने समय के लिए धोते हैं ?': 'Time_soapwater_now',\n",
    "                    'याद कीजिये पिछले कुछ दिनों में जब आपको खासी/छींक आयी, तो आपने क्या किया ? [मुंह कपडे से ढका]': 'Sneeze_cloth_now',\n",
    "                   'याद कीजिये पिछले कुछ दिनों में जब आपको खासी/छींक आयी, तो आपने क्या किया ? [मुंह हाथ से ढका]': 'Sneeze_hand_now',\n",
    "                   'याद कीजिये पिछले कुछ दिनों में जब आपको खासी/छींक आयी, तो आपने क्या किया ? [ऊपरी बाजू में खाँसा या छींका]': 'Sneeze_arm_now',\n",
    "                   'अगर आपने हाथ में खाँसा या छींका, तो उसके उपरान्त क्या आपने अपने हाथ धोये?.1': 'Sneeze_handwash_now',\n",
    "                   'क्या आप आजकल सामाजिक दूरी का पालन करते हैं  ? ( उदाहरण के तौर पर अगर आप कभी दुकान पर गए और आपने लोगों  से एक  मीटर की दूरी बनायीं रखी )': 'Socialdistance_now',\n",
    "                   'क्या आजकल आप घर से बाहर जाते समय मास्क लगाते हैं ?': 'Mask_now'\n",
    "                   })\n",
    "                   \n",
    "'''"
   ]
  },
  {
   "cell_type": "code",
   "execution_count": 4,
   "metadata": {
    "colab": {
     "base_uri": "https://localhost:8080/",
     "height": 173
    },
    "colab_type": "code",
    "id": "9qWB0ripZx9O",
    "outputId": "5c1b0d72-3d0c-4055-af55-0d613cf22a47"
   },
   "outputs": [
    {
     "data": {
      "text/plain": [
       "Index(['ID', 'Timestamp', 'Age', 'Gender', 'occupation', 'occupation_job',\n",
       "       'Edu', 'service_lockdown', 'Statetheyreside', 'state',\n",
       "       'Freq_handwash_before', 'soapwater_before', 'plainwater_before',\n",
       "       'sanitizer_before', 'duration_before', 'allsteps_before',\n",
       "       'cough_cloth_before', 'cough_handcover_before', 'cough_elbow_before',\n",
       "       'social_before', 'Freq_handwash_after', 'soapwater_after',\n",
       "       'plainwater_after', 'sanitizer_after', 'duration_after',\n",
       "       'allsteps_after', 'cough_cloth_after', 'cough_handcover_after',\n",
       "       'cough_elbow_after', 'social_after', 'mask'],\n",
       "      dtype='object')"
      ]
     },
     "execution_count": 4,
     "metadata": {},
     "output_type": "execute_result"
    }
   ],
   "source": [
    "# Add ID column\n",
    "d['ID'] = range(d.shape[0])\n",
    "d.columns"
   ]
  },
  {
   "cell_type": "code",
   "execution_count": null,
   "metadata": {
    "colab": {},
    "colab_type": "code",
    "id": "eIVznobUZx9S"
   },
   "outputs": [],
   "source": [
    "'''\n",
    "# PYTHON CHANGE: removed 'ID' from this list as it does not exist yet.\n",
    "keeps = ['Age', 'Gender', 'Occupation', 'Education',\n",
    "       'Services', 'State', 'No_handwash_before', 'Soapwater_before',\n",
    "       'Water_before', 'Sanitiser_before', 'Time_soapwater_before',\n",
    "       'Mode_handwash_before', 'Sneeze_cloth_before', 'Sneeze_hand_before',\n",
    "       'Sneeze_arm_before', 'Sneeze_handwash_before', 'Socialdistance_before',\n",
    "       'No_handwash_now', 'Soapwater_now', 'Water_now', 'Sanitiser_now',\n",
    "       'Mode_handwash_now', 'Time_soapwater_now', 'Sneeze_cloth_now',\n",
    "       'Sneeze_hand_now', 'Sneeze_arm_now', 'Sneeze_handwash_now',\n",
    "       'Socialdistance_now', 'Mask_now', 'ID']\n",
    "\n",
    "d = d[keeps]\n",
    "'''"
   ]
  },
  {
   "cell_type": "code",
   "execution_count": 5,
   "metadata": {
    "colab": {
     "base_uri": "https://localhost:8080/",
     "height": 35
    },
    "colab_type": "code",
    "id": "qGiCFj_dZx9X",
    "outputId": "eb8de4ec-c868-4b17-aa08-3a548645fee3"
   },
   "outputs": [
    {
     "data": {
      "text/plain": [
       "360"
      ]
     },
     "execution_count": 5,
     "metadata": {},
     "output_type": "execute_result"
    }
   ],
   "source": [
    "# Exclusion criteria. Missing values on age and gender\n",
    "d = d[d['Age'].notnull() & \n",
    "      d['Gender'].notnull()]\n",
    "n_nomiss = d.shape[0]\n",
    "n_nomiss"
   ]
  },
  {
   "cell_type": "code",
   "execution_count": 6,
   "metadata": {
    "colab": {
     "base_uri": "https://localhost:8080/",
     "height": 395
    },
    "colab_type": "code",
    "id": "3RwCNAgFZx9a",
    "outputId": "685a2059-94e4-4af5-d0f2-7155a94fca95"
   },
   "outputs": [
    {
     "data": {
      "text/html": [
       "<div>\n",
       "<style scoped>\n",
       "    .dataframe tbody tr th:only-of-type {\n",
       "        vertical-align: middle;\n",
       "    }\n",
       "\n",
       "    .dataframe tbody tr th {\n",
       "        vertical-align: top;\n",
       "    }\n",
       "\n",
       "    .dataframe thead th {\n",
       "        text-align: right;\n",
       "    }\n",
       "</style>\n",
       "<table border=\"1\" class=\"dataframe\">\n",
       "  <thead>\n",
       "    <tr style=\"text-align: right;\">\n",
       "      <th></th>\n",
       "      <th>ID</th>\n",
       "      <th>Timestamp</th>\n",
       "      <th>Age</th>\n",
       "      <th>Gender</th>\n",
       "      <th>occupation</th>\n",
       "      <th>occupation_job</th>\n",
       "      <th>Edu</th>\n",
       "      <th>service_lockdown</th>\n",
       "      <th>Statetheyreside</th>\n",
       "      <th>state</th>\n",
       "      <th>...</th>\n",
       "      <th>soapwater_after</th>\n",
       "      <th>plainwater_after</th>\n",
       "      <th>sanitizer_after</th>\n",
       "      <th>duration_after</th>\n",
       "      <th>allsteps_after</th>\n",
       "      <th>cough_cloth_after</th>\n",
       "      <th>cough_handcover_after</th>\n",
       "      <th>cough_elbow_after</th>\n",
       "      <th>social_after</th>\n",
       "      <th>mask</th>\n",
       "    </tr>\n",
       "  </thead>\n",
       "  <tbody>\n",
       "    <tr>\n",
       "      <td>0</td>\n",
       "      <td>0</td>\n",
       "      <td>2020-04-29 18:40:05.241</td>\n",
       "      <td>59</td>\n",
       "      <td>2</td>\n",
       "      <td>सरकारी नौकरी ( Govt. job)</td>\n",
       "      <td>1</td>\n",
       "      <td>2</td>\n",
       "      <td>2.0</td>\n",
       "      <td>1</td>\n",
       "      <td>Chandigarh</td>\n",
       "      <td>...</td>\n",
       "      <td>4</td>\n",
       "      <td>2</td>\n",
       "      <td>2</td>\n",
       "      <td>3</td>\n",
       "      <td>3</td>\n",
       "      <td>3</td>\n",
       "      <td>3</td>\n",
       "      <td>2</td>\n",
       "      <td>4</td>\n",
       "      <td>4</td>\n",
       "    </tr>\n",
       "    <tr>\n",
       "      <td>1</td>\n",
       "      <td>1</td>\n",
       "      <td>2020-04-29 18:42:48.866</td>\n",
       "      <td>35</td>\n",
       "      <td>1</td>\n",
       "      <td>सरकारी नौकरी ( Govt. job)</td>\n",
       "      <td>1</td>\n",
       "      <td>1</td>\n",
       "      <td>1.0</td>\n",
       "      <td>2</td>\n",
       "      <td>Rajasthan</td>\n",
       "      <td>...</td>\n",
       "      <td>4</td>\n",
       "      <td>4</td>\n",
       "      <td>2</td>\n",
       "      <td>3</td>\n",
       "      <td>4</td>\n",
       "      <td>3</td>\n",
       "      <td>3</td>\n",
       "      <td>4</td>\n",
       "      <td>4</td>\n",
       "      <td>4</td>\n",
       "    </tr>\n",
       "    <tr>\n",
       "      <td>2</td>\n",
       "      <td>2</td>\n",
       "      <td>2020-04-29 18:43:29.583</td>\n",
       "      <td>36</td>\n",
       "      <td>1</td>\n",
       "      <td>सरकारी नौकरी ( Govt. job)</td>\n",
       "      <td>1</td>\n",
       "      <td>1</td>\n",
       "      <td>1.0</td>\n",
       "      <td>2</td>\n",
       "      <td>punjab</td>\n",
       "      <td>...</td>\n",
       "      <td>4</td>\n",
       "      <td>1</td>\n",
       "      <td>3</td>\n",
       "      <td>3</td>\n",
       "      <td>4</td>\n",
       "      <td>2</td>\n",
       "      <td>1</td>\n",
       "      <td>4</td>\n",
       "      <td>4</td>\n",
       "      <td>4</td>\n",
       "    </tr>\n",
       "    <tr>\n",
       "      <td>3</td>\n",
       "      <td>3</td>\n",
       "      <td>2020-04-29 18:46:36.197</td>\n",
       "      <td>25</td>\n",
       "      <td>1</td>\n",
       "      <td>स्व रोज़गार (self employed)</td>\n",
       "      <td>1</td>\n",
       "      <td>3</td>\n",
       "      <td>2.0</td>\n",
       "      <td>2</td>\n",
       "      <td>Punjab</td>\n",
       "      <td>...</td>\n",
       "      <td>3</td>\n",
       "      <td>1</td>\n",
       "      <td>4</td>\n",
       "      <td>3</td>\n",
       "      <td>4</td>\n",
       "      <td>4</td>\n",
       "      <td>1</td>\n",
       "      <td>1</td>\n",
       "      <td>3</td>\n",
       "      <td>4</td>\n",
       "    </tr>\n",
       "    <tr>\n",
       "      <td>4</td>\n",
       "      <td>4</td>\n",
       "      <td>2020-04-29 18:51:18.490</td>\n",
       "      <td>25</td>\n",
       "      <td>1</td>\n",
       "      <td>स्व रोज़गार (self employed)</td>\n",
       "      <td>1</td>\n",
       "      <td>3</td>\n",
       "      <td>2.0</td>\n",
       "      <td>2</td>\n",
       "      <td>Punjab</td>\n",
       "      <td>...</td>\n",
       "      <td>3</td>\n",
       "      <td>1</td>\n",
       "      <td>4</td>\n",
       "      <td>3</td>\n",
       "      <td>4</td>\n",
       "      <td>4</td>\n",
       "      <td>1</td>\n",
       "      <td>1</td>\n",
       "      <td>3</td>\n",
       "      <td>4</td>\n",
       "    </tr>\n",
       "  </tbody>\n",
       "</table>\n",
       "<p>5 rows × 31 columns</p>\n",
       "</div>"
      ],
      "text/plain": [
       "   ID               Timestamp  Age  Gender                   occupation  \\\n",
       "0   0 2020-04-29 18:40:05.241   59       2    सरकारी नौकरी ( Govt. job)   \n",
       "1   1 2020-04-29 18:42:48.866   35       1    सरकारी नौकरी ( Govt. job)   \n",
       "2   2 2020-04-29 18:43:29.583   36       1    सरकारी नौकरी ( Govt. job)   \n",
       "3   3 2020-04-29 18:46:36.197   25       1  स्व रोज़गार (self employed)   \n",
       "4   4 2020-04-29 18:51:18.490   25       1  स्व रोज़गार (self employed)   \n",
       "\n",
       "   occupation_job  Edu  service_lockdown  Statetheyreside       state  ...  \\\n",
       "0               1    2               2.0                1  Chandigarh  ...   \n",
       "1               1    1               1.0                2   Rajasthan  ...   \n",
       "2               1    1               1.0                2      punjab  ...   \n",
       "3               1    3               2.0                2      Punjab  ...   \n",
       "4               1    3               2.0                2      Punjab  ...   \n",
       "\n",
       "   soapwater_after  plainwater_after  sanitizer_after  duration_after  \\\n",
       "0                4                 2                2               3   \n",
       "1                4                 4                2               3   \n",
       "2                4                 1                3               3   \n",
       "3                3                 1                4               3   \n",
       "4                3                 1                4               3   \n",
       "\n",
       "   allsteps_after  cough_cloth_after  cough_handcover_after  \\\n",
       "0               3                  3                      3   \n",
       "1               4                  3                      3   \n",
       "2               4                  2                      1   \n",
       "3               4                  4                      1   \n",
       "4               4                  4                      1   \n",
       "\n",
       "   cough_elbow_after  social_after  mask  \n",
       "0                  2             4     4  \n",
       "1                  4             4     4  \n",
       "2                  4             4     4  \n",
       "3                  1             3     4  \n",
       "4                  1             3     4  \n",
       "\n",
       "[5 rows x 31 columns]"
      ]
     },
     "execution_count": 6,
     "metadata": {},
     "output_type": "execute_result"
    }
   ],
   "source": [
    "d.head()"
   ]
  },
  {
   "cell_type": "code",
   "execution_count": null,
   "metadata": {
    "colab": {
     "base_uri": "https://localhost:8080/",
     "height": 173
    },
    "colab_type": "code",
    "id": "xbgtOQk6Zx9e",
    "outputId": "822950f8-72b2-4b85-dbe3-2431fa9a8028"
   },
   "outputs": [],
   "source": [
    "d.columns"
   ]
  },
  {
   "cell_type": "code",
   "execution_count": 7,
   "metadata": {
    "colab": {
     "base_uri": "https://localhost:8080/",
     "height": 69
    },
    "colab_type": "code",
    "id": "OK3L5oc9Zx9g",
    "outputId": "38008c12-f781-4216-b240-eb0f7420545a"
   },
   "outputs": [
    {
     "data": {
      "text/plain": [
       "array([59, 35, 36, 25, 39, 32, 28, 29, 38, 49, 37, 34, 33, 40, 53, 41, 50,\n",
       "       42, 56, 60, 44, 27, 24, 18, 20, 19, 21, 31, 30, 26, 23, 22, 45, 61,\n",
       "       62, 52, 47, 58, 54, 46, 43, 55, 57])"
      ]
     },
     "execution_count": 7,
     "metadata": {},
     "output_type": "execute_result"
    }
   ],
   "source": [
    "d['Age'].unique()"
   ]
  },
  {
   "cell_type": "code",
   "execution_count": 8,
   "metadata": {},
   "outputs": [],
   "source": [
    "# Create the change score\n",
    "\n",
    "d['frequencyhandwash_change'] = -d['Freq_handwash_before'] + d['Freq_handwash_after']\n",
    "d['howwashhands_water_change'] = -d['plainwater_before'] + d['plainwater_after']\n",
    "d['howwashhands_sanitizer_change'] = -d['sanitizer_before'] + d['sanitizer_after']\n",
    "d['howwashhands_soapwater_change'] = -d['soapwater_before'] + d['soapwater_after']\n",
    "d['washhandsallsteps_change'] = -d['allsteps_before'] + d['allsteps_after']\n",
    "\n",
    "d['cough_covercloth_change'] = -d['cough_cloth_before'] + d['cough_cloth_after']\n",
    "d['cough_cover_hand_change'] = -d['cough_handcover_before'] + d['cough_handcover_after']\n",
    "d['coughelbow_change'] = -d['cough_elbow_before'] + d['cough_elbow_after']\n",
    "#d['ifcoughedinhand_change'] = -d['ifcoughedinhand'] + d['ifcoughedinhand2']\n",
    "\n",
    "d['social distancing_change'] = -d['social_before'] + d['social_after']"
   ]
  },
  {
   "cell_type": "markdown",
   "metadata": {},
   "source": [
    "# Combined graphics \n",
    "Title- Hygiene behaviour of study participants before and after \n",
    "\n",
    "Components in this - Hand washing with soap and water (always), duration of washing hands, coughing with mouth covered with cloth, coughing in elbow, social distancing\n",
    "\n"
   ]
  },
  {
   "cell_type": "code",
   "execution_count": 9,
   "metadata": {},
   "outputs": [
    {
     "name": "stdout",
     "output_type": "stream",
     "text": [
      "[3 2 4 1]\n"
     ]
    }
   ],
   "source": [
    "d['Gender'] = d['Gender'].replace({1: 'Male', 2: 'Female'})\n",
    "d['Age_cat'] = pd.cut(d['Age'], bins=[18, 30, 80], include_lowest=True)\n",
    "d['Age_cat'].unique()\n",
    "\n",
    "\n",
    "d_combined =pd.DataFrame( columns= ['soapwater', 'duration', 'cough_cloth', 'cough_elbow', 'social', \n",
    "                                    'Gender','Age_cat', 'service_lockdown' ])\n",
    "\n",
    "d_combined =  d[['soapwater_before', 'duration_before', 'cough_cloth_before','cough_elbow_before', 'social_before', \n",
    "                 'Gender', 'Age_cat', 'service_lockdown']]\n",
    "\n",
    "d_combined= d_combined.rename(columns = {'soapwater_before': 'soapwater', 'duration_before':'duration',\n",
    "                   'cough_cloth_before':'cough_cloth','cough_elbow_before':'cough_elbow', \n",
    "                   'social_before':'social'})\n",
    "\n",
    "#\n",
    "d_combined['before/after'] = 'Before'\n",
    "d_combined\n",
    "temp = d[['soapwater_after', 'duration_after', 'cough_cloth_after','cough_elbow_after', 'social_after', \n",
    "          'Gender','Age_cat', 'service_lockdown']]\n",
    "temp['before/after']= 'After'\n",
    "temp = temp.rename(columns = {'soapwater_after': 'soapwater', 'duration_after':'duration',\n",
    "                   'cough_cloth_after':'cough_cloth','cough_elbow_after':'cough_elbow', \n",
    "                   'social_after':'social'})\n",
    "\n",
    "#d_combined\n",
    "d_combined= d_combined.append(temp, ignore_index= True)\n",
    "\n",
    "\n",
    "\n",
    "print(d['duration_after'].unique())\n"
   ]
  },
  {
   "cell_type": "code",
   "execution_count": 14,
   "metadata": {},
   "outputs": [
    {
     "data": {
      "text/html": [
       "<div>\n",
       "<style scoped>\n",
       "    .dataframe tbody tr th:only-of-type {\n",
       "        vertical-align: middle;\n",
       "    }\n",
       "\n",
       "    .dataframe tbody tr th {\n",
       "        vertical-align: top;\n",
       "    }\n",
       "\n",
       "    .dataframe thead th {\n",
       "        text-align: right;\n",
       "    }\n",
       "</style>\n",
       "<table border=\"1\" class=\"dataframe\">\n",
       "  <thead>\n",
       "    <tr style=\"text-align: right;\">\n",
       "      <th></th>\n",
       "      <th>soapwater</th>\n",
       "      <th>duration</th>\n",
       "      <th>cough_cloth</th>\n",
       "      <th>cough_elbow</th>\n",
       "      <th>social</th>\n",
       "      <th>Gender</th>\n",
       "      <th>Age_cat</th>\n",
       "      <th>service_lockdown</th>\n",
       "      <th>before/after</th>\n",
       "    </tr>\n",
       "  </thead>\n",
       "  <tbody>\n",
       "    <tr>\n",
       "      <td>0</td>\n",
       "      <td>3</td>\n",
       "      <td>4</td>\n",
       "      <td>2</td>\n",
       "      <td>1</td>\n",
       "      <td>2</td>\n",
       "      <td>Female</td>\n",
       "      <td>(30.0, 80.0]</td>\n",
       "      <td>2.0</td>\n",
       "      <td>Before</td>\n",
       "    </tr>\n",
       "    <tr>\n",
       "      <td>1</td>\n",
       "      <td>2</td>\n",
       "      <td>2</td>\n",
       "      <td>2</td>\n",
       "      <td>2</td>\n",
       "      <td>2</td>\n",
       "      <td>Male</td>\n",
       "      <td>(30.0, 80.0]</td>\n",
       "      <td>1.0</td>\n",
       "      <td>Before</td>\n",
       "    </tr>\n",
       "    <tr>\n",
       "      <td>2</td>\n",
       "      <td>3</td>\n",
       "      <td>1</td>\n",
       "      <td>2</td>\n",
       "      <td>1</td>\n",
       "      <td>1</td>\n",
       "      <td>Male</td>\n",
       "      <td>(30.0, 80.0]</td>\n",
       "      <td>1.0</td>\n",
       "      <td>Before</td>\n",
       "    </tr>\n",
       "    <tr>\n",
       "      <td>3</td>\n",
       "      <td>2</td>\n",
       "      <td>3</td>\n",
       "      <td>4</td>\n",
       "      <td>1</td>\n",
       "      <td>3</td>\n",
       "      <td>Male</td>\n",
       "      <td>(17.999, 30.0]</td>\n",
       "      <td>2.0</td>\n",
       "      <td>Before</td>\n",
       "    </tr>\n",
       "    <tr>\n",
       "      <td>4</td>\n",
       "      <td>2</td>\n",
       "      <td>3</td>\n",
       "      <td>4</td>\n",
       "      <td>1</td>\n",
       "      <td>3</td>\n",
       "      <td>Male</td>\n",
       "      <td>(17.999, 30.0]</td>\n",
       "      <td>2.0</td>\n",
       "      <td>Before</td>\n",
       "    </tr>\n",
       "    <tr>\n",
       "      <td>...</td>\n",
       "      <td>...</td>\n",
       "      <td>...</td>\n",
       "      <td>...</td>\n",
       "      <td>...</td>\n",
       "      <td>...</td>\n",
       "      <td>...</td>\n",
       "      <td>...</td>\n",
       "      <td>...</td>\n",
       "      <td>...</td>\n",
       "    </tr>\n",
       "    <tr>\n",
       "      <td>715</td>\n",
       "      <td>4</td>\n",
       "      <td>3</td>\n",
       "      <td>4</td>\n",
       "      <td>4</td>\n",
       "      <td>4</td>\n",
       "      <td>Female</td>\n",
       "      <td>(17.999, 30.0]</td>\n",
       "      <td>1.0</td>\n",
       "      <td>After</td>\n",
       "    </tr>\n",
       "    <tr>\n",
       "      <td>716</td>\n",
       "      <td>4</td>\n",
       "      <td>3</td>\n",
       "      <td>4</td>\n",
       "      <td>4</td>\n",
       "      <td>4</td>\n",
       "      <td>Female</td>\n",
       "      <td>(30.0, 80.0]</td>\n",
       "      <td>1.0</td>\n",
       "      <td>After</td>\n",
       "    </tr>\n",
       "    <tr>\n",
       "      <td>717</td>\n",
       "      <td>4</td>\n",
       "      <td>3</td>\n",
       "      <td>3</td>\n",
       "      <td>4</td>\n",
       "      <td>4</td>\n",
       "      <td>Female</td>\n",
       "      <td>(30.0, 80.0]</td>\n",
       "      <td>1.0</td>\n",
       "      <td>After</td>\n",
       "    </tr>\n",
       "    <tr>\n",
       "      <td>718</td>\n",
       "      <td>4</td>\n",
       "      <td>3</td>\n",
       "      <td>1</td>\n",
       "      <td>4</td>\n",
       "      <td>4</td>\n",
       "      <td>Female</td>\n",
       "      <td>(30.0, 80.0]</td>\n",
       "      <td>1.0</td>\n",
       "      <td>After</td>\n",
       "    </tr>\n",
       "    <tr>\n",
       "      <td>719</td>\n",
       "      <td>4</td>\n",
       "      <td>2</td>\n",
       "      <td>4</td>\n",
       "      <td>4</td>\n",
       "      <td>4</td>\n",
       "      <td>Male</td>\n",
       "      <td>(30.0, 80.0]</td>\n",
       "      <td>2.0</td>\n",
       "      <td>After</td>\n",
       "    </tr>\n",
       "  </tbody>\n",
       "</table>\n",
       "<p>720 rows × 9 columns</p>\n",
       "</div>"
      ],
      "text/plain": [
       "     soapwater  duration  cough_cloth  cough_elbow  social  Gender  \\\n",
       "0            3         4            2            1       2  Female   \n",
       "1            2         2            2            2       2    Male   \n",
       "2            3         1            2            1       1    Male   \n",
       "3            2         3            4            1       3    Male   \n",
       "4            2         3            4            1       3    Male   \n",
       "..         ...       ...          ...          ...     ...     ...   \n",
       "715          4         3            4            4       4  Female   \n",
       "716          4         3            4            4       4  Female   \n",
       "717          4         3            3            4       4  Female   \n",
       "718          4         3            1            4       4  Female   \n",
       "719          4         2            4            4       4    Male   \n",
       "\n",
       "            Age_cat  service_lockdown before/after  \n",
       "0      (30.0, 80.0]               2.0       Before  \n",
       "1      (30.0, 80.0]               1.0       Before  \n",
       "2      (30.0, 80.0]               1.0       Before  \n",
       "3    (17.999, 30.0]               2.0       Before  \n",
       "4    (17.999, 30.0]               2.0       Before  \n",
       "..              ...               ...          ...  \n",
       "715  (17.999, 30.0]               1.0        After  \n",
       "716    (30.0, 80.0]               1.0        After  \n",
       "717    (30.0, 80.0]               1.0        After  \n",
       "718    (30.0, 80.0]               1.0        After  \n",
       "719    (30.0, 80.0]               2.0        After  \n",
       "\n",
       "[720 rows x 9 columns]"
      ]
     },
     "execution_count": 14,
     "metadata": {},
     "output_type": "execute_result"
    }
   ],
   "source": [
    "d_combined"
   ]
  },
  {
   "cell_type": "code",
   "execution_count": null,
   "metadata": {},
   "outputs": [],
   "source": []
  },
  {
   "cell_type": "code",
   "execution_count": 37,
   "metadata": {},
   "outputs": [
    {
     "data": {
      "text/plain": [
       "Text(0.5, 1.05, 'Before/After plot of the parameters studied')"
      ]
     },
     "execution_count": 37,
     "metadata": {},
     "output_type": "execute_result"
    },
    {
     "data": {
      "image/png": "[encoded data removed]",
      "text/plain": [
       "<Figure size 720x720 with 5 Axes>"
      ]
     },
     "metadata": {
      "needs_background": "light"
     },
     "output_type": "display_data"
    }
   ],
   "source": [
    "fig, axes = plt.subplots(3, 2, figsize=(10, 10))\n",
    "for i, sense in enumerate(['soapwater','duration', 'cough_cloth',\n",
    "       'cough_elbow', 'social']):\n",
    "    g= sns.countplot(data=d_combined, x= sense, hue= 'before/after', ax= axes.flat[i])\n",
    "    g.legend_.remove()\n",
    "\n",
    "plt.tight_layout()\n",
    "\n",
    "axes.flatten()[-2].legend(['Before', 'After'],loc='upper center',bbox_to_anchor=(1.1, -0.2), ncol=2)\n",
    "fig.delaxes(axes[2][1])\n",
    "plt.suptitle('Before/After plot of the parameters studied', x  = 0.5, y = 1.05, fontsize = 20, fontweight = 'semibold')"
   ]
  },
  {
   "cell_type": "code",
   "execution_count": 49,
   "metadata": {
    "scrolled": false
   },
   "outputs": [
    {
     "data": {
      "image/png": "[encoded data removed]",
      "text/plain": [
       "<Figure size 833.65x360 with 2 Axes>"
      ]
     },
     "metadata": {
      "needs_background": "light"
     },
     "output_type": "display_data"
    },
    {
     "data": {
      "image/png": "[encoded data removed]",
      "text/plain": [
       "<Figure size 833.65x360 with 2 Axes>"
      ]
     },
     "metadata": {
      "needs_background": "light"
     },
     "output_type": "display_data"
    },
    {
     "data": {
      "image/png": "[encoded data removed]",
      "text/plain": [
       "<Figure size 833.65x360 with 2 Axes>"
      ]
     },
     "metadata": {
      "needs_background": "light"
     },
     "output_type": "display_data"
    },
    {
     "data": {
      "image/png": "[encoded data removed]",
      "text/plain": [
       "<Figure size 833.65x360 with 2 Axes>"
      ]
     },
     "metadata": {
      "needs_background": "light"
     },
     "output_type": "display_data"
    },
    {
     "data": {
      "image/png": "[encoded data removed]",
      "text/plain": [
       "<Figure size 833.65x360 with 2 Axes>"
      ]
     },
     "metadata": {
      "needs_background": "light"
     },
     "output_type": "display_data"
    }
   ],
   "source": [
    "for i, sense in enumerate(['soapwater','duration', 'cough_cloth',\n",
    "       'cough_elbow', 'social']):\n",
    "    g = sns.catplot(data=d_combined, x= sense, hue= 'before/after',  kind='count', col= 'Gender')\n",
    "#axes.flatten()[-2].legend(['Before', 'After'],loc='upper center',bbox_to_anchor=(1.1, -0.2), ncol=2)\n"
   ]
  },
  {
   "cell_type": "code",
   "execution_count": null,
   "metadata": {},
   "outputs": [],
   "source": [
    "for i, sense in enumerate(['soapwater','duration', 'cough_cloth',\n",
    "       'cough_elbow', 'social']):\n",
    "    g= sns.catplot(data=d_combined, x= sense, hue= 'before/after', ax= axes.flat[i], kind='count', col= 'Age_cat')\n"
   ]
  },
  {
   "cell_type": "code",
   "execution_count": null,
   "metadata": {},
   "outputs": [],
   "source": [
    "for i, sense in enumerate(['soapwater','duration', 'cough_cloth',\n",
    "       'cough_elbow', 'social']):\n",
    "    g= sns.catplot(data=d_combined, x= sense, hue= 'before/after', ax= axes.flat[i], kind='count', col= 'service_lockdown')\n"
   ]
  },
  {
   "cell_type": "code",
   "execution_count": null,
   "metadata": {},
   "outputs": [],
   "source": [
    "def make_pyramid_BA(d, sense, ax, legend=True, group_var= 'before/after'):\n",
    "    \n",
    "    variable= sense\n",
    "    d_clean = d.rename(columns={variable: 'value', group_var: 'before/after'})\n",
    "    group_col = 'before/after'\n",
    "    noM_F = d_clean[group_col].value_counts()\n",
    "\n",
    "    \n",
    "    colors = [plt.cm.Spectral(i/float(len(d_clean[group_col].unique())-1)) for i in range(len(d_clean[group_col].unique()))]\n",
    "    \n",
    "    data=d_clean.loc[d_clean[group_col]=='Before', :]    \n",
    "    Female_pop = data['value'].value_counts()/noM_F['Before']\n",
    "\n",
    "    data=d_clean.loc[d_clean[group_col]=='After', :]\n",
    "    \n",
    "    Male_pop = data['value'].value_counts()/noM_F['After']\n",
    "    \n",
    "    ratings_group = d_clean.value.unique()[::-1]\n",
    "    \n",
    "    \n",
    "    print(Female_pop.index)\n",
    "    h= ax.barh(Female_pop.index, -Female_pop, color = 'r')\n",
    "    ax.barh(Male_pop.index, Male_pop, color = 'b')\n",
    "    ax.set_title(variable)\n",
    "    #ax.legend(['Before', 'After'], loc= 1)\n",
    "    \n",
    "    #plt.show()\n",
    "     \n",
    "        \n",
    "\n",
    "fig, axes = plt.subplots(2, 2, figsize=(10, 10))\n",
    "for i, sense in enumerate(['soapwater', 'cough_cloth',\n",
    "       'cough_elbow', 'social']):\n",
    "    make_pyramid_BA(d_combined, sense, ax=axes.flat[i], legend=(i==0), group_var= 'before/after')\n",
    "plt.tight_layout()\n",
    "\n",
    "axes.flatten()[-2].legend(['Before', 'After'],loc='upper center',bbox_to_anchor=(1.1, -0.2), ncol=2)\n"
   ]
  },
  {
   "cell_type": "code",
   "execution_count": null,
   "metadata": {},
   "outputs": [],
   "source": [
    "\n",
    "    \n",
    "def make_pyramid(d, sense, ax, legend=True, group_var= 'Gender'):\n",
    "    \n",
    "    variable= sense\n",
    "    d_clean = d.rename(columns={variable: 'value', group_var: 'Group', 'ID': 'ID'})\n",
    "    group_col = 'Group'\n",
    "    noM_F = d_clean['Group'].value_counts()\n",
    "    \n",
    "    print(noM_F)\n",
    "    colors = [plt.cm.Spectral(i/float(len(d_clean[group_col].unique())-1)) for i in range(len(d_clean[group_col].unique()))]\n",
    "    \n",
    "    data=d_clean.loc[d_clean[group_col]==noM_F.index[1], :]\n",
    "    Female_pop = data.groupby('value').count()['Age']/noM_F[noM_F.index[1]]\n",
    "    data=d_clean.loc[d_clean[group_col]==noM_F.index[0], :]\n",
    "    Male_pop = data.groupby('value').count()['Age']/noM_F[noM_F.index[0]]\n",
    "    ratings_group = d_clean.value.unique()[::-1]\n",
    "    #print(Female_pop)\n",
    "    ax.barh(ratings_group, Female_pop, color = 'r')\n",
    "    ax.barh(ratings_group, -Male_pop, color = 'b')\n",
    "    ax.set_title(variable)\n",
    "    #plt.show()\n",
    "     \n",
    "\n",
    "\n",
    "\n",
    "\n",
    "\n",
    "\n",
    "fig, axes = plt.subplots(4, 2, figsize=(8,15 ), sharey=True)\n",
    "\n",
    "for i, sense in enumerate([\n",
    "       'soapwater_before','soapwater_after',\n",
    "    'cough_cloth_before', 'cough_cloth_after', 'cough_elbow_before', 'cough_elbow_after',\n",
    "    'social_before', 'social_after']):\n",
    "    ax = axes.ravel()\n",
    "    make_pyramid(d, sense, ax=ax[i],  legend=(i==0), group_var='Gender')\n",
    "plt.tight_layout()   \n",
    "\n",
    "\n",
    "axes.flatten()[-2].legend(['Female', 'Male'],loc='upper center',bbox_to_anchor=(1.1, -0.2), ncol=2)\n",
    "\n",
    "\n",
    "\n",
    "\n",
    "\n",
    "\n",
    "\n"
   ]
  },
  {
   "cell_type": "code",
   "execution_count": null,
   "metadata": {},
   "outputs": [],
   "source": [
    "d['age_cat'] = pd.cut(d['Age'], bins=[18, 30, 80], include_lowest=True)\n",
    "d['age_cat'].unique()\n",
    "\n",
    "\n",
    "\n",
    "fig, axes = plt.subplots(4, 2, figsize=(8,15 ), sharey=True)\n",
    "\n",
    "for i, sense in enumerate([\n",
    "       'soapwater_before','soapwater_after',\n",
    "    'cough_cloth_before', 'cough_cloth_after', 'cough_elbow_before', 'cough_elbow_after',\n",
    "    'social_before', 'social_after']):\n",
    "    ax = axes.ravel()\n",
    "    make_pyramid(d, sense, ax=ax[i],  legend=(i==0), group_var='age_cat')\n",
    "plt.tight_layout()   \n",
    "\n",
    "\n",
    "axes.flatten()[-2].legend(d['age_cat'].unique(),loc='upper center',bbox_to_anchor=(1.1, -0.2), ncol=2)\n",
    "\n",
    "\n"
   ]
  },
  {
   "cell_type": "code",
   "execution_count": null,
   "metadata": {},
   "outputs": [],
   "source": [
    "d['age_cat'] = pd.cut(d['Age'], bins=[18, 30, 80], include_lowest=True)\n",
    "d['age_cat'].unique()\n",
    "\n",
    "\n",
    "\n",
    "fig, axes = plt.subplots(4, 2, figsize=(8,15 ), sharey=True)\n",
    "\n",
    "for i, sense in enumerate([\n",
    "       'soapwater_before','soapwater_after',\n",
    "    'cough_cloth_before', 'cough_cloth_after', 'cough_elbow_before', 'cough_elbow_after',\n",
    "    'social_before', 'social_after']):\n",
    "    ax = axes.ravel()\n",
    "    make_pyramid(d, sense, ax=ax[i],  legend=(i==0), group_var='service_lockdown')\n",
    "plt.tight_layout()   \n",
    "\n",
    "\n",
    "axes.flatten()[-2].legend(d['service_lockdown'].unique(),loc='upper center',bbox_to_anchor=(1.1, -0.2), ncol=2)\n",
    "\n"
   ]
  },
  {
   "cell_type": "code",
   "execution_count": null,
   "metadata": {},
   "outputs": [],
   "source": []
  },
  {
   "cell_type": "code",
   "execution_count": null,
   "metadata": {
    "colab": {},
    "colab_type": "code",
    "id": "mjvqXzo7Zx9i"
   },
   "outputs": [],
   "source": [
    "'''\n",
    "#code variables\n",
    "\n",
    "# Create a new summary sanity check variable\n",
    "d['Gender'] = d['Gender'].replace({'महिला': \"Female\",\n",
    "                                   'पुरुष': \"Male\"})\n",
    "\n",
    "d['Occupation'] = d['Occupation'].replace({ 'सरकारी नौकरी ( Govt. job)': 'Govt Job', \n",
    "                                           'स्व रोज़गार (self employed)': 'Self employed',\n",
    "       'निजी संस्थान में कार्य (Private job)': 'Private Job',\n",
    "        'अपना व्यवसाय': 'Self employed',\n",
    "        'Housewife': 'Housewife',\n",
    "        'Retired': 'Retired', \n",
    "        'छात्र (student)': 'Student', 'Contractual job': 'Contractual Job',\n",
    "       'गृहिणी':'Housewife', 'Social Activities ': 'Social Activities', 'Preparation':'Preparation', \n",
    "        'Doctor': 'Doctor', 'मजदूरी': 'Worker',\n",
    "       'सेवानिवृत्त': 'Retired'})\n",
    "\n",
    "\n",
    "d['Education'] = d['Education'].replace({'डिप्लोमा': 4, 'स्नातक और ऊपर': 5, '12th class': 3,\n",
    "       'कोई औपचारिक शिक्षा नहीं': 0, 'प्राइमरी तक':1, '10th class': 2})\n",
    "\n",
    "d['Services'] = d['Services'].replace({ 'नहीं': 'No', 'हाँ': 'Yes'})\n",
    "\n",
    "d['No_handwash_before'] = d['No_handwash_before'].replace({'6-10': 2, '1-5':1, '>16':4, '11-15':3})\n",
    "d['No_handwash_now'] = d['No_handwash_now'].replace({'6-10': 2, '1-5':1, '>16':4, '11-15':3})\n",
    "d['Soapwater_before']= d['Soapwater_before'].replace({'अक्सर':2 , 'कभी कभी':1, 'हमेशा':3, 'कभी नहीं':0})\n",
    "d['Soapwater_now']= d['Soapwater_now'].replace({'अक्सर':2 , 'कभी कभी':1, 'हमेशा':3, 'कभी नहीं':0})\n",
    "\n",
    "d['Water_before']= d['Water_before'].replace({'अक्सर':2 , 'कभी कभी':1, 'हमेशा':3, 'कभी नहीं':0})\n",
    "d['Water_now']= d['Water_now'].replace({'अक्सर':2 , 'कभी कभी':1, 'हमेशा':3, 'कभी नहीं':0})\n",
    "\n",
    "\n",
    "d['Sanitiser_before']= d['Sanitiser_before'].replace({'अक्सर':2 , 'कभी कभी':1, 'हमेशा':3, 'कभी नहीं':0})\n",
    "d['Sanitiser_now']= d['Sanitiser_now'].replace({'अक्सर':2 , 'कभी-कभी':1, 'हमेशा':3, 'कभी नहीं':0})\n",
    "\n",
    "\n",
    "d['Time_soapwater_before']= d['Time_soapwater_before'].replace({'पता नहीं':4, '11-19 second': 2, '<10 second': 1, '20 seconds and above':3,\n",
    "       'साबुन और पानी से हाथ नहीं धोया':0})\n",
    "d['Time_soapwater_now']= d['Time_soapwater_now'].replace({'पता नहीं':4, '11-19 second': 2, '<10 second': 1, '20 seconds and above':3,\n",
    "       'साबुन और पानी से हाथ नहीं धोया':0})\n",
    "\n",
    "d['Mode_handwash_before'] = d['Mode_handwash_before'].replace({'अक्सर':2 , 'कभी कभी':1, 'हमेशा':3, 'कभी नहीं':0})\n",
    "d['Mode_handwash_now'] = d['Mode_handwash_now'].replace({'अक्सर':2 , 'कभी कभी':1, 'हमेशा':3, 'कभी नहीं':0})\n",
    "\n",
    "d['Sneeze_cloth_before'] = d['Sneeze_cloth_before'].replace({'अक्सर':2 , 'कभी कभी':1, 'हमेशा':3, 'कभी नहीं':0})\n",
    "d['Sneeze_cloth_now'] = d['Sneeze_cloth_now'].replace({'अक्सर':2 , 'कभी कभी':1, 'हमेशा':3, 'कभी नहीं':0})\n",
    "\n",
    "d['Sneeze_hand_before'] = d['Sneeze_hand_before'].replace({'अक्सर':2 , 'कभी कभी':1, 'हमेशा':3, 'कभी नहीं':0})\n",
    "d['Sneeze_hand_now'] = d['Sneeze_hand_now'].replace({'अक्सर':2 , 'कभी कभी':1, 'हमेशा':3, 'कभी नहीं':0})\n",
    "\n",
    "d['Sneeze_arm_before'] = d['Sneeze_hand_before'].replace({'अक्सर':2 , 'कभी कभी':1, 'हमेशा':3, 'कभी नहीं':0})\n",
    "d['Sneeze_arm_now'] = d['Sneeze_hand_now'].replace({'अक्सर':2 , 'कभी कभी':1, 'हमेशा':3, 'कभी नहीं':0})\n",
    "\n",
    "d['Mask_now'] = d['Mask_now'].replace({'अक्सर':2 , 'कभी कभी':1, 'हमेशा':3, 'कभी नहीं':0})\n",
    "\n",
    "'''"
   ]
  },
  {
   "cell_type": "code",
   "execution_count": null,
   "metadata": {
    "colab": {},
    "colab_type": "code",
    "id": "g4KDTjf5Zx9j"
   },
   "outputs": [],
   "source": []
  },
  {
   "cell_type": "markdown",
   "metadata": {
    "colab_type": "text",
    "id": "5zALoF_jZx9m"
   },
   "source": [
    "# Figure 2"
   ]
  },
  {
   "cell_type": "code",
   "execution_count": null,
   "metadata": {
    "colab": {},
    "colab_type": "code",
    "id": "oIjYMJkkZx9n"
   },
   "outputs": [],
   "source": [
    "'''\n",
    "def make_violin(d, sense, ax, legend=True):\n",
    "    before = '%s' % sense\n",
    "    during = '%s2' % sense\n",
    "    d_clean = d.rename(columns={before: 'before', during: 'now', 'Gender': 'Group'})\n",
    "    d_clean = pd.melt(d_clean, value_vars=['before', 'now'], id_vars='Group')\n",
    "    \n",
    "    d_clean = d_clean.explode('value')\n",
    "    d_clean['value'] = d_clean['value'].astype('float')\n",
    "    \n",
    "   \n",
    "    g = sns.violinplot(x='variable', y='value', hue='Group', data=d_clean, ax=ax)\n",
    "    if not legend:\n",
    "        g.legend_.remove()\n",
    "    ax.set_xlabel('')\n",
    "    ax.set_ylabel('Rating')\n",
    "    ax.set_title(sense)\n",
    "    \n",
    "'''"
   ]
  },
  {
   "cell_type": "code",
   "execution_count": null,
   "metadata": {
    "colab": {},
    "colab_type": "code",
    "id": "13KBusA-Zx9p",
    "outputId": "c471fa69-6765-4ba1-f4c3-c0ecfc4ff000"
   },
   "outputs": [],
   "source": [
    "'''\n",
    "d['Gender'] = d['Gender'].replace({1: 'Male', 2: 'Female'})\n",
    "\n",
    "fig, axes = plt.subplots(2, 2, figsize=(10, 10))\n",
    "for i, sense in enumerate(['frequencyhandwash',\n",
    "       'howwashhands_soapwater', 'howwashhands_water',\n",
    "       'howwashhands_sanitizer']):\n",
    "    make_violin(d, sense, ax=axes.flat[i], legend=(i==0))\n",
    "plt.tight_layout()\n",
    "\n",
    "'''"
   ]
  },
  {
   "cell_type": "code",
   "execution_count": null,
   "metadata": {
    "colab": {
     "base_uri": "https://localhost:8080/",
     "height": 438
    },
    "colab_type": "code",
    "id": "U5RnngVMZx9r",
    "outputId": "71eca27d-8f1c-44f8-95be-75dfd4ea9b07"
   },
   "outputs": [],
   "source": [
    "def make_pyramid(d, sense, ax, legend=True, group_var= 'Gender'):\n",
    "    \n",
    "    variable= sense\n",
    "    d_clean = d.rename(columns={variable: 'value', group_var: 'Group', 'ID': 'ID'})\n",
    "    group_col = 'Group'\n",
    "    noM_F = d_clean['Group'].value_counts()\n",
    "\n",
    "    colors = [plt.cm.Spectral(i/float(len(d_clean[group_col].unique())-1)) for i in range(len(d_clean[group_col].unique()))]\n",
    "    \n",
    "    data=d_clean.loc[d_clean[group_col]=='Female', :]\n",
    "    Female_pop = data.groupby('value').count()['Age']/noM_F['Female']\n",
    "    data=d_clean.loc[d_clean[group_col]=='Male', :]\n",
    "    Male_pop = data.groupby('value').count()['Age']/noM_F['Male']\n",
    "    ratings_group = d_clean.value.unique()[::-1]\n",
    "    #print(Female_pop)\n",
    "    ax.barh(ratings_group, Female_pop, color = 'r')\n",
    "    ax.barh(ratings_group, -Male_pop, color = 'b')\n",
    "    ax.set_title(variable)\n",
    "    #plt.show()\n",
    "     \n",
    "d['Gender'] = d['Gender'].replace({1: 'Male', 2: 'Female'})\n",
    "fig, axes = plt.subplots(2, 4, figsize=(20,10 ), sharey=True)\n",
    "\n",
    "for i, sense in enumerate(['Freq_handwash_before','Freq_handwash_after',\n",
    "       'soapwater_before','soapwater_after', 'plainwater_before','plainwater_after',\n",
    "       'sanitizer_before','sanitizer_after']):\n",
    "    ax = axes.ravel()\n",
    "    make_pyramid(d, sense, ax=ax[i],  legend=(i==0), group_var='Gender')\n",
    "plt.tight_layout()   \n"
   ]
  },
  {
   "cell_type": "code",
   "execution_count": null,
   "metadata": {
    "colab": {},
    "colab_type": "code",
    "id": "P3Mw22xBZx9t",
    "outputId": "d57ec269-60ea-4363-de02-b1ed1be4e3bb"
   },
   "outputs": [],
   "source": [
    "def make_violin_withoutgroup(d, sense, ax, legend=True):\n",
    "    before = '%s' % sense\n",
    "    during = '%s2' % sense\n",
    "    d_clean = d.rename(columns={before: 'before', during: 'now', 'gender': 'Group'})\n",
    "    d_clean = pd.melt(d_clean, value_vars=['before', 'now'], id_vars='Group')\n",
    "    \n",
    "    d_clean = d_clean.explode('value')\n",
    "    d_clean['value'] = d_clean['value'].astype('float')\n",
    "  \n",
    "    g = sns.violinplot(x='variable', y='value',  data=d_clean, ax=ax, add_legend=False, cut=0)\n",
    " #   if not legend:\n",
    "  #      g.legend_.remove()\n",
    "    ax.set_xlabel('')\n",
    "    ax.set_ylabel('Rating')\n",
    "    ax.set_title(sense)\n",
    "    \n",
    "\n",
    "fig, axes = plt.subplots(2, 2, figsize=(10, 10))\n",
    "for i, sense in enumerate(['frequencyhandwash',\n",
    "       'howwashhands_soapwater', 'howwashhands_water',\n",
    "       'howwashhands_sanitizer']):\n",
    "    make_violin_withoutgroup(d, sense, ax=axes.flat[i], legend=(i==0))\n",
    "plt.tight_layout()"
   ]
  },
  {
   "cell_type": "code",
   "execution_count": null,
   "metadata": {
    "colab": {},
    "colab_type": "code",
    "id": "GytUIDA7Zx9v",
    "outputId": "02340a3b-fbe4-4330-83a3-6eb552c3bd60"
   },
   "outputs": [],
   "source": [
    "\n",
    "\n",
    "fig, axes = plt.subplots(2, 2, figsize=(10, 10))\n",
    "for i, sense in enumerate(['cough_covercloth', 'cough_cover_hand', 'coughelbow', 'ifcoughedinhand']):\n",
    "    make_violin(d, sense, ax=axes.flat[i], legend=(i==0))\n",
    "plt.tight_layout()\n",
    "\n",
    "\n",
    "\n"
   ]
  },
  {
   "cell_type": "code",
   "execution_count": null,
   "metadata": {
    "colab": {
     "base_uri": "https://localhost:8080/",
     "height": 548
    },
    "colab_type": "code",
    "id": "0dy7LVp4Zx9x",
    "outputId": "cec9c08c-0b9d-45ed-f001-1e7809dd265e"
   },
   "outputs": [],
   "source": [
    "fig, axes = plt.subplots(2, 3, figsize=(24, 15), sharey=True)\n",
    "\n",
    "for i, sense in enumerate(['cough_cloth_before','cough_cloth_after', 'cough_handcover_before', 'cough_handcover_after',\n",
    "                           'cough_elbow_before','cough_elbow_after']):\n",
    "    ax = axes.ravel()\n",
    "\n",
    "    make_pyramid(d, sense, ax=ax[i], legend=(i==0), group_var='Gender')\n",
    "plt.tight_layout()  "
   ]
  },
  {
   "cell_type": "code",
   "execution_count": null,
   "metadata": {
    "colab": {},
    "colab_type": "code",
    "id": "aOtTLgMcZx9z",
    "outputId": "e6e92c2a-8578-49dc-9df7-853438cf8dda"
   },
   "outputs": [],
   "source": [
    "fig, axes = plt.subplots(2, 2, figsize=(10, 10))\n",
    "for i, sense in enumerate(['cough_covercloth', 'cough_cover_hand', 'coughelbow', 'ifcoughedinhand']):\n",
    "    make_violin_withoutgroup(d, sense, ax=axes.flat[i], legend=(i==0))\n",
    "plt.tight_layout()"
   ]
  },
  {
   "cell_type": "code",
   "execution_count": null,
   "metadata": {
    "colab": {},
    "colab_type": "code",
    "id": "Hf6bEhGBZx91",
    "outputId": "a9cb73ca-8b22-456f-e2a2-0c64e001e7e6"
   },
   "outputs": [],
   "source": [
    "\n",
    "fig, axes = plt.subplots(1, 2, figsize=(10, 10))\n",
    "for i, sense in enumerate(['social distancing']):\n",
    "    make_violin(d, sense, ax=axes.flat[i], legend=(i==0))\n",
    "plt.tight_layout()\n",
    "\n",
    "fig, axes = plt.subplots(1,2, figsize=(10, 10))\n",
    "for i, sense in enumerate(['social distancing']):\n",
    "    make_violin_withoutgroup(d, sense, ax=axes.flat[i], legend=(i==0))\n",
    "plt.tight_layout()\n",
    "\n",
    "\n"
   ]
  },
  {
   "cell_type": "code",
   "execution_count": null,
   "metadata": {
    "colab": {
     "base_uri": "https://localhost:8080/",
     "height": 352
    },
    "colab_type": "code",
    "id": "M8274_NCZx93",
    "outputId": "b2479b08-0f23-4bea-f7f3-4ea55ca524ab"
   },
   "outputs": [],
   "source": [
    "fig, axes = plt.subplots(1, 2, figsize=(10, 5), sharey=True)\n",
    "\n",
    "\n",
    "for i, sense in enumerate(['social_before','social_after']):\n",
    "    ax = axes.ravel()\n",
    "\n",
    "    make_pyramid(d, sense, ax=ax[i], legend=(i==0),group_var='Gender' )\n",
    "plt.tight_layout()  "
   ]
  },
  {
   "cell_type": "code",
   "execution_count": null,
   "metadata": {
    "colab": {
     "base_uri": "https://localhost:8080/",
     "height": 351
    },
    "colab_type": "code",
    "id": "NZ8F_s2vZx96",
    "outputId": "12d70c8f-ee51-4874-a724-df892527e1c7"
   },
   "outputs": [],
   "source": [
    "# changes with age\n",
    "\n",
    "def make_box(d, sense, ax, legend=True):\n",
    "    before = '%s_before' % sense\n",
    "    during = '%s_after' % sense\n",
    "    d_clean = d.rename(columns={before: 'before', during: 'now', 'age_cat': 'Group'})\n",
    "    d_clean = pd.melt(d_clean, value_vars=['before', 'now'], id_vars='Group')\n",
    "    \n",
    "    d_clean = d_clean.explode('value')\n",
    "    d_clean['value'] = d_clean['value'].astype('float')\n",
    "    \n",
    "   \n",
    "    g = sns.boxplot(x='variable', y='value', hue='Group', data=d_clean, ax=ax)\n",
    "\n",
    "    if not legend:\n",
    "        g.legend_.remove()\n",
    "    ax.set_xlabel('')\n",
    "    ax.set_ylabel('Rating')\n",
    "    ax.set_title(sense)\n",
    "\n",
    "d['age_cat'] = pd.cut(d['Age'], bins=[18, 24, 50, 80], include_lowest=True)\n",
    "d['age_cat'].unique()\n",
    "fig, axes = plt.subplots(1, 4, figsize=(20, 8), sharey=True)\n",
    "for i, sense in enumerate(['Freq_handwash',\n",
    "       'soapwater', 'plainwater',\n",
    "       'sanitizer']):\n",
    "    make_box(d, sense, ax=axes.flat[i], legend=(i==0))\n",
    "plt.tight_layout()\n",
    "\n"
   ]
  },
  {
   "cell_type": "code",
   "execution_count": null,
   "metadata": {
    "colab": {
     "base_uri": "https://localhost:8080/",
     "height": 289
    },
    "colab_type": "code",
    "id": "5XCJCMnvZx99",
    "outputId": "d8648ffb-ddda-4333-8356-439f4a14b5f0"
   },
   "outputs": [],
   "source": [
    "\n",
    "fig, axes = plt.subplots(1, 3, figsize=(15, 5),sharey=True)\n",
    "for i, sense in enumerate(['cough_cloth', 'cough_handcover', 'cough_elbow']):\n",
    "    make_box(d, sense, ax=axes.flat[i], legend=(i==0))\n",
    "plt.tight_layout()\n"
   ]
  },
  {
   "cell_type": "code",
   "execution_count": null,
   "metadata": {
    "colab": {
     "base_uri": "https://localhost:8080/",
     "height": 289
    },
    "colab_type": "code",
    "id": "lPfJe2nRZx9_",
    "outputId": "e8cc8b59-bf63-458f-e771-9653eccd96bb"
   },
   "outputs": [],
   "source": [
    "\n",
    "fig, axes = plt.subplots(1, 2, figsize=(15, 5))\n",
    "for i, sense in enumerate(['social']):\n",
    "    make_box(d, sense, ax=axes.flat[i], legend=(i==0))\n",
    "plt.tight_layout()"
   ]
  },
  {
   "cell_type": "markdown",
   "metadata": {
    "colab_type": "text",
    "id": "dt_DVZizZx-B"
   },
   "source": [
    "# FIGURE 3 - Characterization - Overall Changes"
   ]
  },
  {
   "cell_type": "code",
   "execution_count": null,
   "metadata": {
    "colab": {
     "base_uri": "https://localhost:8080/",
     "height": 833
    },
    "colab_type": "code",
    "id": "kUBkKPV6Zx-B",
    "outputId": "ae5762c6-50a8-478d-e0b5-a058916c9657"
   },
   "outputs": [],
   "source": [
    "cols = ['frequencyhandwash_change', 'howwashhands_water_change', 'howwashhands_sanitizer_change', \n",
    "         'howwashhands_soapwater_change', 'washhandsallsteps_change', 'cough_covercloth_change',\n",
    "         'cough_cover_hand_change','coughelbow_change','social distancing_change'] \n",
    "corrs = d[cols].corr().round(2)\n",
    "plt.figure(figsize=(10,10))\n",
    "sns.heatmap(corrs,vmin=-1, vmax=1, cmap='RdBu', square=True, annot=True)"
   ]
  },
  {
   "cell_type": "markdown",
   "metadata": {
    "colab_type": "text",
    "id": "rLVQu61oZx-D"
   },
   "source": [
    "# age by group"
   ]
  },
  {
   "cell_type": "code",
   "execution_count": null,
   "metadata": {
    "colab": {
     "base_uri": "https://localhost:8080/",
     "height": 407
    },
    "colab_type": "code",
    "id": "6Mcy1ei7Zx-D",
    "outputId": "159285ae-5376-4ac6-829c-1cb512d2eb9b"
   },
   "outputs": [],
   "source": [
    "fig, axes = plt.subplots(1, 2, figsize=(10, 5))\n",
    "for i, group in enumerate(['Male', 'Female']):\n",
    "    axes[i].hist(d[d['Gender']==group]['Age'], bins=25)\n",
    "    axes[i].set_title(group)\n",
    "    axes[i].set_xlabel('Age (in years)')\n",
    "    axes[i].set_ylabel('Count')\n",
    "plt.suptitle('gender wise age distribution in our data', y=1.1)\n",
    "plt.tight_layout()"
   ]
  },
  {
   "cell_type": "markdown",
   "metadata": {
    "colab_type": "text",
    "id": "_8ldjL5xZx-F"
   },
   "source": [
    "# FIGURE 4 - Chemosensory clustering"
   ]
  },
  {
   "cell_type": "code",
   "execution_count": null,
   "metadata": {
    "colab": {},
    "colab_type": "code",
    "id": "9ab2YYm-Zx-F",
    "outputId": "8e1796ba-62e7-4fd2-8406-cbcf73f200f1"
   },
   "outputs": [],
   "source": [
    "cols = ['frequencyhandwash_change', 'cough_covercloth_change', 'social distancing_change' ]\n",
    "k = KMeans(n_clusters=3, random_state=123)\n",
    "pca = PCA(n_components=2)\n",
    "coords = pca.fit_transform(d[cols])\n",
    "k.fit(d[cols]);\n",
    "k.labels_ += 1 # To match R\n",
    "colors = {1: 'red', 2: 'green', 3: 'blue'}\n",
    "labels = {1: \"Significant Smell/Taste Loss - Preserved Chemestesis\",\n",
    "          2: \"Moderate Smell/Taste Loss - Preserved Chemestesis\",\n",
    "          3: \"Significant Smell/Taste Loss - Significant  Chemestesis Loss\"}\n",
    "plt.figure(figsize=(12, 8))\n",
    "for i, color in colors.items():\n",
    "    plt.scatter(*coords[k.labels_==i].T, c=color, alpha=0.2, label=labels[i])\n",
    "plt.title('Clusters derived from Smell, Taste and Chemesthesis change ratings')\n",
    "plt.xlabel('PC 1')\n",
    "plt.ylabel('PC 2')\n",
    "plt.legend(fontsize=11);"
   ]
  },
  {
   "cell_type": "markdown",
   "metadata": {
    "colab_type": "text",
    "id": "XGIfH7ZDZx-I"
   },
   "source": [
    "# Supplemental Figures"
   ]
  },
  {
   "cell_type": "code",
   "execution_count": null,
   "metadata": {
    "colab": {},
    "colab_type": "code",
    "id": "D8lqoXvzZx-I"
   },
   "outputs": [],
   "source": [
    "def make_hist(d, sense, ax, add_legend=True):\n",
    "    change = '%s_change' % sense\n",
    "    for group in ['Clinical exam', 'Lab test']:\n",
    "        d[d['Group']==group][change].hist(bins=50, alpha=0.5, ax=ax, label=group)\n",
    "    ax.set_xlabel('')\n",
    "    ax.set_ylabel('Rating')\n",
    "    ax.set_title('Change in %s' % sense.replace(' ', '').title())\n",
    "    if add_legend:\n",
    "        ax.legend()"
   ]
  },
  {
   "cell_type": "code",
   "execution_count": null,
   "metadata": {
    "colab": {},
    "colab_type": "code",
    "id": "VV_0sALKZx-K"
   },
   "outputs": [],
   "source": [
    "fig, axes = plt.subplots(2, 2, figsize=(10, 10))\n",
    "for i, sense in enumerate(['Smell', 'Taste', 'Nasal_occlusion', 'Chemesthesis']):\n",
    "    make_hist(d, sense, ax=axes.flat[i], add_legend=(i==0))\n",
    "plt.tight_layout()"
   ]
  },
  {
   "cell_type": "markdown",
   "metadata": {
    "colab_type": "text",
    "id": "NFvSaYhxZx-M"
   },
   "source": [
    "### Gender by Group"
   ]
  },
  {
   "cell_type": "code",
   "execution_count": null,
   "metadata": {
    "colab": {},
    "colab_type": "code",
    "id": "SFwJRfd0Zx-M"
   },
   "outputs": [],
   "source": [
    "def pie_by_group(d, col):\n",
    "    fig, axes = plt.subplots(1, 2, figsize=(10, 20))\n",
    "    plt.suptitle('%s in COVID−19 lab tested vs. clinically examined respondents' % col.title(), y=0.63)\n",
    "    for i, group in enumerate(['Clinical exam', 'Lab test']):\n",
    "        d_group = d[d['Group']==group]\n",
    "        gender = d_group[col].value_counts() / d_group.shape[0]\n",
    "        labels = d_group[col].value_counts().index\n",
    "        axes[i].pie(gender, autopct='%1.0f%%', startangle=90, counterclock=False)\n",
    "        axes[i].set_title(group)\n",
    "        axes[i].legend(labels, fontsize=9)\n",
    "        \n",
    "pie_by_group(d, 'Gender')"
   ]
  },
  {
   "cell_type": "markdown",
   "metadata": {
    "colab_type": "text",
    "id": "kLfaDhnbZx-O"
   },
   "source": [
    "### Age by Group"
   ]
  },
  {
   "cell_type": "code",
   "execution_count": null,
   "metadata": {
    "colab": {},
    "colab_type": "code",
    "id": "OkLN2o6RZx-P"
   },
   "outputs": [],
   "source": []
  },
  {
   "cell_type": "code",
   "execution_count": null,
   "metadata": {
    "colab": {},
    "colab_type": "code",
    "id": "H9Q63EkeZx-R"
   },
   "outputs": [],
   "source": [
    "fig, axes = plt.subplots(1, 2, figsize=(10, 20))\n",
    "plt.suptitle('Gender in COVID−19 lab tested vs. clinically examined respondents', y=0.63)\n",
    "for i, group in enumerate(['Clinical exam', 'Lab test']):\n",
    "    d_group = d[d['Group']==group]\n",
    "    gender = d_group['Gender'].value_counts() / d_group.shape[0]\n",
    "    labels = d_group['Gender'].value_counts().index\n",
    "    axes[i].pie(gender, autopct='%1.0f%%', startangle=90, counterclock=False)\n",
    "    axes[i].set_title(group)\n",
    "    axes[i].legend(labels, fontsize=9)"
   ]
  },
  {
   "cell_type": "markdown",
   "metadata": {
    "colab_type": "text",
    "id": "J6LkoAjvZx-S"
   },
   "source": [
    "### Characterization - Smell Change"
   ]
  },
  {
   "cell_type": "code",
   "execution_count": null,
   "metadata": {
    "colab": {},
    "colab_type": "code",
    "id": "gsq8K2aGZx-T"
   },
   "outputs": [],
   "source": [
    "cols = ['Smell_change', 'phantosmia', 'parosmia', 'smell_loss', 'smell_fluctuations', 'Nasal_occlusion_change']\n",
    "make_corrmat(d, cols)"
   ]
  },
  {
   "cell_type": "markdown",
   "metadata": {
    "colab_type": "text",
    "id": "UBoJLSIYZx-W"
   },
   "source": [
    "### Characterization - Taste Change"
   ]
  },
  {
   "cell_type": "code",
   "execution_count": null,
   "metadata": {
    "colab": {},
    "colab_type": "code",
    "id": "WTsdyKddZx-W"
   },
   "outputs": [],
   "source": [
    "cols = ['Taste_change']\n",
    "cols += ['Changes_in_basic_tastes_%s' % x for x in ['sweet', 'salty', 'sour', 'bitter', 'savory/umami']]\n",
    "make_corrmat(d, cols)"
   ]
  }
 ],
 "metadata": {
  "colab": {
   "name": "analysis-Copy1.ipynb",
   "provenance": [],
   "toc_visible": true
  },
  "kernelspec": {
   "display_name": "Python 3",
   "language": "python",
   "name": "python3"
  },
  "language_info": {
   "codemirror_mode": {
    "name": "ipython",
    "version": 3
   },
   "file_extension": ".py",
   "mimetype": "text/x-python",
   "name": "python",
   "nbconvert_exporter": "python",
   "pygments_lexer": "ipython3",
   "version": "3.7.4"
  }
 },
 "nbformat": 4,
 "nbformat_minor": 1
}
